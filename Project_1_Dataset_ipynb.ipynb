{
  "nbformat": 4,
  "nbformat_minor": 0,
  "metadata": {
    "colab": {
      "provenance": [],
      "toc_visible": true,
      "authorship_tag": "ABX9TyMcWq2bM3BiXLUDPkj48yrr",
      "include_colab_link": true
    },
    "kernelspec": {
      "name": "python3",
      "display_name": "Python 3"
    },
    "language_info": {
      "name": "python"
    }
  },
  "cells": [
    {
      "cell_type": "markdown",
      "metadata": {
        "id": "view-in-github",
        "colab_type": "text"
      },
      "source": [
        "<a href=\"https://colab.research.google.com/github/alexkardan/Data110/blob/main/Project_1_Dataset_ipynb.ipynb\" target=\"_parent\"><img src=\"https://colab.research.google.com/assets/colab-badge.svg\" alt=\"Open In Colab\"/></a>"
      ]
    },
    {
      "cell_type": "code",
      "execution_count": 1,
      "metadata": {
        "id": "9uXkC_gw4_Zc",
        "colab": {
          "base_uri": "https://localhost:8080/"
        },
        "outputId": "4ae835b7-8de7-4db7-b3fb-c39645b78357"
      },
      "outputs": [
        {
          "output_type": "stream",
          "name": "stdout",
          "text": [
            "Mounted at /content/drive\n"
          ]
        }
      ],
      "source": [
        "import matplotlib.pyplot as plt\n",
        "import seaborn as sns\n",
        "import pandas as pd\n",
        "import gdown\n",
        "from google.colab import drive\n",
        "drive.mount('/content/drive')\n",
        "from matplotlib.ticker import FuncFormatter"
      ]
    },
    {
      "cell_type": "code",
      "source": [
        "file_id = '1wHr8XDF72ILTzVty_NFf6qQFRnRP8Oq3'\n",
        "\n",
        "# Create the correct download URL\n",
        "download_url = f'https://drive.google.com/uc?id={file_id}'\n",
        "\n",
        "# Specify the file name for saving\n",
        "output = 'your_file.csv'  # Use 'your_file.xlsx' if it's an Excel file\n",
        "\n",
        "# Download the file from Google Drive\n",
        "gdown.download(download_url, output, quiet=False)"
      ],
      "metadata": {
        "id": "uS0wSYGSCN8E",
        "colab": {
          "base_uri": "https://localhost:8080/",
          "height": 105
        },
        "outputId": "053091b2-b4b3-49d4-a0e8-bf186cd850f5"
      },
      "execution_count": 2,
      "outputs": [
        {
          "output_type": "stream",
          "name": "stderr",
          "text": [
            "Downloading...\n",
            "From: https://drive.google.com/uc?id=1wHr8XDF72ILTzVty_NFf6qQFRnRP8Oq3\n",
            "To: /content/your_file.csv\n",
            "100%|██████████| 34.4M/34.4M [00:00<00:00, 59.6MB/s]\n"
          ]
        },
        {
          "output_type": "execute_result",
          "data": {
            "text/plain": [
              "'your_file.csv'"
            ],
            "application/vnd.google.colaboratory.intrinsic+json": {
              "type": "string"
            }
          },
          "metadata": {},
          "execution_count": 2
        }
      ]
    },
    {
      "cell_type": "code",
      "source": [
        "df = pd.read_csv('your_file.csv')"
      ],
      "metadata": {
        "id": "vSU4tFgI7-1h"
      },
      "execution_count": 3,
      "outputs": []
    },
    {
      "cell_type": "markdown",
      "source": [
        "This dataset is border crossings both legal and undocumented immigrants to each state from 1996 to 2019. I chose this dataset as with immigration being such a contentious topic in modern day politics I wanted to understand is this issue truly something that effects the average person that is truly a widespread issue across the US or not. I aimed to explore whether immigration is a widespread issue affecting the general population and whether states bordering Mexico, such as Arizona and Texas, experience significantly higher crossing rates than states like California, which is known for its relatively lenient border policies."
      ],
      "metadata": {
        "id": "TgMqh0gg96F8"
      }
    },
    {
      "cell_type": "code",
      "source": [
        "Border_crossing = pd.read_csv('your_file.csv')\n",
        "\n",
        "# Display the first few rows of the DataFrame\n",
        "df.head()"
      ],
      "metadata": {
        "id": "a1st6N9lJUU6",
        "colab": {
          "base_uri": "https://localhost:8080/",
          "height": 206
        },
        "outputId": "5c8c7215-8ef6-4066-a03b-1ab6770e0a4e"
      },
      "execution_count": 4,
      "outputs": [
        {
          "output_type": "execute_result",
          "data": {
            "text/plain": [
              "       Port Name       State  Port Code            Border           Date  \\\n",
              "0  Calexico East  California       2507  US-Mexico Border  3/1/2019 0:00   \n",
              "1      Van Buren       Maine        108  US-Canada Border  3/1/2019 0:00   \n",
              "2      Otay Mesa  California       2506  US-Mexico Border  3/1/2019 0:00   \n",
              "3        Nogales     Arizona       2604  US-Mexico Border  3/1/2019 0:00   \n",
              "4    Trout River    New York        715  US-Canada Border  3/1/2019 0:00   \n",
              "\n",
              "                       Measure  Value                               Location  \n",
              "0                       Trucks  34447   POINT (-115.48433000000001 32.67524)  \n",
              "1         Rail Containers Full    428             POINT (-67.94271 47.16207)  \n",
              "2                       Trucks  81217            POINT (-117.05333 32.57333)  \n",
              "3                       Trains     62  POINT (-110.93361 31.340279999999996)  \n",
              "4  Personal Vehicle Passengers  16377   POINT (-73.44253 44.990010000000005)  "
            ],
            "text/html": [
              "\n",
              "  <div id=\"df-d1299455-63dc-4d3f-967b-1165b995b34c\" class=\"colab-df-container\">\n",
              "    <div>\n",
              "<style scoped>\n",
              "    .dataframe tbody tr th:only-of-type {\n",
              "        vertical-align: middle;\n",
              "    }\n",
              "\n",
              "    .dataframe tbody tr th {\n",
              "        vertical-align: top;\n",
              "    }\n",
              "\n",
              "    .dataframe thead th {\n",
              "        text-align: right;\n",
              "    }\n",
              "</style>\n",
              "<table border=\"1\" class=\"dataframe\">\n",
              "  <thead>\n",
              "    <tr style=\"text-align: right;\">\n",
              "      <th></th>\n",
              "      <th>Port Name</th>\n",
              "      <th>State</th>\n",
              "      <th>Port Code</th>\n",
              "      <th>Border</th>\n",
              "      <th>Date</th>\n",
              "      <th>Measure</th>\n",
              "      <th>Value</th>\n",
              "      <th>Location</th>\n",
              "    </tr>\n",
              "  </thead>\n",
              "  <tbody>\n",
              "    <tr>\n",
              "      <th>0</th>\n",
              "      <td>Calexico East</td>\n",
              "      <td>California</td>\n",
              "      <td>2507</td>\n",
              "      <td>US-Mexico Border</td>\n",
              "      <td>3/1/2019 0:00</td>\n",
              "      <td>Trucks</td>\n",
              "      <td>34447</td>\n",
              "      <td>POINT (-115.48433000000001 32.67524)</td>\n",
              "    </tr>\n",
              "    <tr>\n",
              "      <th>1</th>\n",
              "      <td>Van Buren</td>\n",
              "      <td>Maine</td>\n",
              "      <td>108</td>\n",
              "      <td>US-Canada Border</td>\n",
              "      <td>3/1/2019 0:00</td>\n",
              "      <td>Rail Containers Full</td>\n",
              "      <td>428</td>\n",
              "      <td>POINT (-67.94271 47.16207)</td>\n",
              "    </tr>\n",
              "    <tr>\n",
              "      <th>2</th>\n",
              "      <td>Otay Mesa</td>\n",
              "      <td>California</td>\n",
              "      <td>2506</td>\n",
              "      <td>US-Mexico Border</td>\n",
              "      <td>3/1/2019 0:00</td>\n",
              "      <td>Trucks</td>\n",
              "      <td>81217</td>\n",
              "      <td>POINT (-117.05333 32.57333)</td>\n",
              "    </tr>\n",
              "    <tr>\n",
              "      <th>3</th>\n",
              "      <td>Nogales</td>\n",
              "      <td>Arizona</td>\n",
              "      <td>2604</td>\n",
              "      <td>US-Mexico Border</td>\n",
              "      <td>3/1/2019 0:00</td>\n",
              "      <td>Trains</td>\n",
              "      <td>62</td>\n",
              "      <td>POINT (-110.93361 31.340279999999996)</td>\n",
              "    </tr>\n",
              "    <tr>\n",
              "      <th>4</th>\n",
              "      <td>Trout River</td>\n",
              "      <td>New York</td>\n",
              "      <td>715</td>\n",
              "      <td>US-Canada Border</td>\n",
              "      <td>3/1/2019 0:00</td>\n",
              "      <td>Personal Vehicle Passengers</td>\n",
              "      <td>16377</td>\n",
              "      <td>POINT (-73.44253 44.990010000000005)</td>\n",
              "    </tr>\n",
              "  </tbody>\n",
              "</table>\n",
              "</div>\n",
              "    <div class=\"colab-df-buttons\">\n",
              "\n",
              "  <div class=\"colab-df-container\">\n",
              "    <button class=\"colab-df-convert\" onclick=\"convertToInteractive('df-d1299455-63dc-4d3f-967b-1165b995b34c')\"\n",
              "            title=\"Convert this dataframe to an interactive table.\"\n",
              "            style=\"display:none;\">\n",
              "\n",
              "  <svg xmlns=\"http://www.w3.org/2000/svg\" height=\"24px\" viewBox=\"0 -960 960 960\">\n",
              "    <path d=\"M120-120v-720h720v720H120Zm60-500h600v-160H180v160Zm220 220h160v-160H400v160Zm0 220h160v-160H400v160ZM180-400h160v-160H180v160Zm440 0h160v-160H620v160ZM180-180h160v-160H180v160Zm440 0h160v-160H620v160Z\"/>\n",
              "  </svg>\n",
              "    </button>\n",
              "\n",
              "  <style>\n",
              "    .colab-df-container {\n",
              "      display:flex;\n",
              "      gap: 12px;\n",
              "    }\n",
              "\n",
              "    .colab-df-convert {\n",
              "      background-color: #E8F0FE;\n",
              "      border: none;\n",
              "      border-radius: 50%;\n",
              "      cursor: pointer;\n",
              "      display: none;\n",
              "      fill: #1967D2;\n",
              "      height: 32px;\n",
              "      padding: 0 0 0 0;\n",
              "      width: 32px;\n",
              "    }\n",
              "\n",
              "    .colab-df-convert:hover {\n",
              "      background-color: #E2EBFA;\n",
              "      box-shadow: 0px 1px 2px rgba(60, 64, 67, 0.3), 0px 1px 3px 1px rgba(60, 64, 67, 0.15);\n",
              "      fill: #174EA6;\n",
              "    }\n",
              "\n",
              "    .colab-df-buttons div {\n",
              "      margin-bottom: 4px;\n",
              "    }\n",
              "\n",
              "    [theme=dark] .colab-df-convert {\n",
              "      background-color: #3B4455;\n",
              "      fill: #D2E3FC;\n",
              "    }\n",
              "\n",
              "    [theme=dark] .colab-df-convert:hover {\n",
              "      background-color: #434B5C;\n",
              "      box-shadow: 0px 1px 3px 1px rgba(0, 0, 0, 0.15);\n",
              "      filter: drop-shadow(0px 1px 2px rgba(0, 0, 0, 0.3));\n",
              "      fill: #FFFFFF;\n",
              "    }\n",
              "  </style>\n",
              "\n",
              "    <script>\n",
              "      const buttonEl =\n",
              "        document.querySelector('#df-d1299455-63dc-4d3f-967b-1165b995b34c button.colab-df-convert');\n",
              "      buttonEl.style.display =\n",
              "        google.colab.kernel.accessAllowed ? 'block' : 'none';\n",
              "\n",
              "      async function convertToInteractive(key) {\n",
              "        const element = document.querySelector('#df-d1299455-63dc-4d3f-967b-1165b995b34c');\n",
              "        const dataTable =\n",
              "          await google.colab.kernel.invokeFunction('convertToInteractive',\n",
              "                                                    [key], {});\n",
              "        if (!dataTable) return;\n",
              "\n",
              "        const docLinkHtml = 'Like what you see? Visit the ' +\n",
              "          '<a target=\"_blank\" href=https://colab.research.google.com/notebooks/data_table.ipynb>data table notebook</a>'\n",
              "          + ' to learn more about interactive tables.';\n",
              "        element.innerHTML = '';\n",
              "        dataTable['output_type'] = 'display_data';\n",
              "        await google.colab.output.renderOutput(dataTable, element);\n",
              "        const docLink = document.createElement('div');\n",
              "        docLink.innerHTML = docLinkHtml;\n",
              "        element.appendChild(docLink);\n",
              "      }\n",
              "    </script>\n",
              "  </div>\n",
              "\n",
              "\n",
              "<div id=\"df-1e4c3b73-dc42-4006-b688-3a59567ea99a\">\n",
              "  <button class=\"colab-df-quickchart\" onclick=\"quickchart('df-1e4c3b73-dc42-4006-b688-3a59567ea99a')\"\n",
              "            title=\"Suggest charts\"\n",
              "            style=\"display:none;\">\n",
              "\n",
              "<svg xmlns=\"http://www.w3.org/2000/svg\" height=\"24px\"viewBox=\"0 0 24 24\"\n",
              "     width=\"24px\">\n",
              "    <g>\n",
              "        <path d=\"M19 3H5c-1.1 0-2 .9-2 2v14c0 1.1.9 2 2 2h14c1.1 0 2-.9 2-2V5c0-1.1-.9-2-2-2zM9 17H7v-7h2v7zm4 0h-2V7h2v10zm4 0h-2v-4h2v4z\"/>\n",
              "    </g>\n",
              "</svg>\n",
              "  </button>\n",
              "\n",
              "<style>\n",
              "  .colab-df-quickchart {\n",
              "      --bg-color: #E8F0FE;\n",
              "      --fill-color: #1967D2;\n",
              "      --hover-bg-color: #E2EBFA;\n",
              "      --hover-fill-color: #174EA6;\n",
              "      --disabled-fill-color: #AAA;\n",
              "      --disabled-bg-color: #DDD;\n",
              "  }\n",
              "\n",
              "  [theme=dark] .colab-df-quickchart {\n",
              "      --bg-color: #3B4455;\n",
              "      --fill-color: #D2E3FC;\n",
              "      --hover-bg-color: #434B5C;\n",
              "      --hover-fill-color: #FFFFFF;\n",
              "      --disabled-bg-color: #3B4455;\n",
              "      --disabled-fill-color: #666;\n",
              "  }\n",
              "\n",
              "  .colab-df-quickchart {\n",
              "    background-color: var(--bg-color);\n",
              "    border: none;\n",
              "    border-radius: 50%;\n",
              "    cursor: pointer;\n",
              "    display: none;\n",
              "    fill: var(--fill-color);\n",
              "    height: 32px;\n",
              "    padding: 0;\n",
              "    width: 32px;\n",
              "  }\n",
              "\n",
              "  .colab-df-quickchart:hover {\n",
              "    background-color: var(--hover-bg-color);\n",
              "    box-shadow: 0 1px 2px rgba(60, 64, 67, 0.3), 0 1px 3px 1px rgba(60, 64, 67, 0.15);\n",
              "    fill: var(--button-hover-fill-color);\n",
              "  }\n",
              "\n",
              "  .colab-df-quickchart-complete:disabled,\n",
              "  .colab-df-quickchart-complete:disabled:hover {\n",
              "    background-color: var(--disabled-bg-color);\n",
              "    fill: var(--disabled-fill-color);\n",
              "    box-shadow: none;\n",
              "  }\n",
              "\n",
              "  .colab-df-spinner {\n",
              "    border: 2px solid var(--fill-color);\n",
              "    border-color: transparent;\n",
              "    border-bottom-color: var(--fill-color);\n",
              "    animation:\n",
              "      spin 1s steps(1) infinite;\n",
              "  }\n",
              "\n",
              "  @keyframes spin {\n",
              "    0% {\n",
              "      border-color: transparent;\n",
              "      border-bottom-color: var(--fill-color);\n",
              "      border-left-color: var(--fill-color);\n",
              "    }\n",
              "    20% {\n",
              "      border-color: transparent;\n",
              "      border-left-color: var(--fill-color);\n",
              "      border-top-color: var(--fill-color);\n",
              "    }\n",
              "    30% {\n",
              "      border-color: transparent;\n",
              "      border-left-color: var(--fill-color);\n",
              "      border-top-color: var(--fill-color);\n",
              "      border-right-color: var(--fill-color);\n",
              "    }\n",
              "    40% {\n",
              "      border-color: transparent;\n",
              "      border-right-color: var(--fill-color);\n",
              "      border-top-color: var(--fill-color);\n",
              "    }\n",
              "    60% {\n",
              "      border-color: transparent;\n",
              "      border-right-color: var(--fill-color);\n",
              "    }\n",
              "    80% {\n",
              "      border-color: transparent;\n",
              "      border-right-color: var(--fill-color);\n",
              "      border-bottom-color: var(--fill-color);\n",
              "    }\n",
              "    90% {\n",
              "      border-color: transparent;\n",
              "      border-bottom-color: var(--fill-color);\n",
              "    }\n",
              "  }\n",
              "</style>\n",
              "\n",
              "  <script>\n",
              "    async function quickchart(key) {\n",
              "      const quickchartButtonEl =\n",
              "        document.querySelector('#' + key + ' button');\n",
              "      quickchartButtonEl.disabled = true;  // To prevent multiple clicks.\n",
              "      quickchartButtonEl.classList.add('colab-df-spinner');\n",
              "      try {\n",
              "        const charts = await google.colab.kernel.invokeFunction(\n",
              "            'suggestCharts', [key], {});\n",
              "      } catch (error) {\n",
              "        console.error('Error during call to suggestCharts:', error);\n",
              "      }\n",
              "      quickchartButtonEl.classList.remove('colab-df-spinner');\n",
              "      quickchartButtonEl.classList.add('colab-df-quickchart-complete');\n",
              "    }\n",
              "    (() => {\n",
              "      let quickchartButtonEl =\n",
              "        document.querySelector('#df-1e4c3b73-dc42-4006-b688-3a59567ea99a button');\n",
              "      quickchartButtonEl.style.display =\n",
              "        google.colab.kernel.accessAllowed ? 'block' : 'none';\n",
              "    })();\n",
              "  </script>\n",
              "</div>\n",
              "\n",
              "    </div>\n",
              "  </div>\n"
            ],
            "application/vnd.google.colaboratory.intrinsic+json": {
              "type": "dataframe",
              "variable_name": "df"
            }
          },
          "metadata": {},
          "execution_count": 4
        }
      ]
    },
    {
      "cell_type": "code",
      "source": [
        "df.info()"
      ],
      "metadata": {
        "id": "5fH3k0fWJY6S",
        "colab": {
          "base_uri": "https://localhost:8080/"
        },
        "outputId": "10a695b4-90d9-4151-dbea-ee94439bcaf7"
      },
      "execution_count": 5,
      "outputs": [
        {
          "output_type": "stream",
          "name": "stdout",
          "text": [
            "<class 'pandas.core.frame.DataFrame'>\n",
            "RangeIndex: 346733 entries, 0 to 346732\n",
            "Data columns (total 8 columns):\n",
            " #   Column     Non-Null Count   Dtype \n",
            "---  ------     --------------   ----- \n",
            " 0   Port Name  346733 non-null  object\n",
            " 1   State      346733 non-null  object\n",
            " 2   Port Code  346733 non-null  int64 \n",
            " 3   Border     346733 non-null  object\n",
            " 4   Date       346733 non-null  object\n",
            " 5   Measure    346733 non-null  object\n",
            " 6   Value      346733 non-null  int64 \n",
            " 7   Location   346733 non-null  object\n",
            "dtypes: int64(2), object(6)\n",
            "memory usage: 21.2+ MB\n"
          ]
        }
      ]
    },
    {
      "cell_type": "code",
      "source": [
        "unique_states = Border_crossing['State'].unique()\n",
        "print(unique_states)\n",
        "\n",
        "total_crossings_by_state = Border_crossing.groupby('State')['Value'].sum().reset_index()\n",
        "print(total_crossings_by_state.sort_values(by='Value', ascending=False))\n",
        "\n",
        "Border_crossing.head"
      ],
      "metadata": {
        "id": "0D7wYGKiFjmb",
        "colab": {
          "base_uri": "https://localhost:8080/",
          "height": 515
        },
        "outputId": "4e84880f-ae5b-44a0-b860-a4f4377134cb"
      },
      "execution_count": 6,
      "outputs": [
        {
          "output_type": "stream",
          "name": "stdout",
          "text": [
            "['California' 'Maine' 'Arizona' 'New York' 'North Dakota' 'Texas'\n",
            " 'Montana' 'Minnesota' 'Vermont' 'Washington' 'Idaho' 'Michigan'\n",
            " 'New Mexico' 'Alaska' 'Ohio']\n",
            "           State       Value\n",
            "12         Texas  3633098966\n",
            "2     California  2499521716\n",
            "1        Arizona   888075092\n",
            "9       New York   827170661\n",
            "5       Michigan   753167571\n",
            "14    Washington   501550846\n",
            "4          Maine   231249782\n",
            "13       Vermont   114257813\n",
            "6      Minnesota    95764039\n",
            "10  North Dakota    75722499\n",
            "8     New Mexico    64936274\n",
            "7        Montana    54160434\n",
            "3          Idaho    20998428\n",
            "0         Alaska    13920348\n",
            "11          Ohio         373\n"
          ]
        },
        {
          "output_type": "execute_result",
          "data": {
            "text/plain": [
              "<bound method NDFrame.head of             Port Name         State  Port Code            Border  \\\n",
              "0       Calexico East    California       2507  US-Mexico Border   \n",
              "1           Van Buren         Maine        108  US-Canada Border   \n",
              "2           Otay Mesa    California       2506  US-Mexico Border   \n",
              "3             Nogales       Arizona       2604  US-Mexico Border   \n",
              "4         Trout River      New York        715  US-Canada Border   \n",
              "...               ...           ...        ...               ...   \n",
              "346728         Norton       Vermont        211  US-Canada Border   \n",
              "346729       Columbus    New Mexico       2406  US-Mexico Border   \n",
              "346730       Hansboro  North Dakota       3415  US-Canada Border   \n",
              "346731  Calexico East    California       2507  US-Mexico Border   \n",
              "346732       Presidio         Texas       2403  US-Mexico Border   \n",
              "\n",
              "                 Date                      Measure  Value  \\\n",
              "0       3/1/2019 0:00                       Trucks  34447   \n",
              "1       3/1/2019 0:00         Rail Containers Full    428   \n",
              "2       3/1/2019 0:00                       Trucks  81217   \n",
              "3       3/1/2019 0:00                       Trains     62   \n",
              "4       3/1/2019 0:00  Personal Vehicle Passengers  16377   \n",
              "...               ...                          ...    ...   \n",
              "346728  1/1/1996 0:00  Personal Vehicle Passengers   9119   \n",
              "346729  1/1/1996 0:00            Personal Vehicles  29486   \n",
              "346730  1/1/1996 0:00         Rail Containers Full      0   \n",
              "346731  1/1/1996 0:00                        Buses      0   \n",
              "346732  1/1/1996 0:00                       Trucks    347   \n",
              "\n",
              "                                     Location  \n",
              "0        POINT (-115.48433000000001 32.67524)  \n",
              "1                  POINT (-67.94271 47.16207)  \n",
              "2                 POINT (-117.05333 32.57333)  \n",
              "3       POINT (-110.93361 31.340279999999996)  \n",
              "4        POINT (-73.44253 44.990010000000005)  \n",
              "...                                       ...  \n",
              "346728                   POINT (-71.79 45.01)  \n",
              "346729                  POINT (-107.63 31.78)  \n",
              "346730                      POINT (-99.35 49)  \n",
              "346731                  POINT (-115.39 32.67)  \n",
              "346732      POINT (-104.39000000000001 29.56)  \n",
              "\n",
              "[346733 rows x 8 columns]>"
            ],
            "text/html": [
              "<div style=\"max-width:800px; border: 1px solid var(--colab-border-color);\"><style>\n",
              "      pre.function-repr-contents {\n",
              "        overflow-x: auto;\n",
              "        padding: 8px 12px;\n",
              "        max-height: 500px;\n",
              "      }\n",
              "\n",
              "      pre.function-repr-contents.function-repr-contents-collapsed {\n",
              "        cursor: pointer;\n",
              "        max-height: 100px;\n",
              "      }\n",
              "    </style>\n",
              "    <pre style=\"white-space: initial; background:\n",
              "         var(--colab-secondary-surface-color); padding: 8px 12px;\n",
              "         border-bottom: 1px solid var(--colab-border-color);\"><b>pandas.core.generic.NDFrame.head</b><br/>def head(n: int=5) -&gt; Self</pre><pre class=\"function-repr-contents function-repr-contents-collapsed\" style=\"\"><a class=\"filepath\" style=\"display:none\" href=\"#\">/usr/local/lib/python3.10/dist-packages/pandas/core/generic.py</a>Return the first `n` rows.\n",
              "\n",
              "This function returns the first `n` rows for the object based\n",
              "on position. It is useful for quickly testing if your object\n",
              "has the right type of data in it.\n",
              "\n",
              "For negative values of `n`, this function returns all rows except\n",
              "the last `|n|` rows, equivalent to ``df[:n]``.\n",
              "\n",
              "If n is larger than the number of rows, this function returns all rows.\n",
              "\n",
              "Parameters\n",
              "----------\n",
              "n : int, default 5\n",
              "    Number of rows to select.\n",
              "\n",
              "Returns\n",
              "-------\n",
              "same type as caller\n",
              "    The first `n` rows of the caller object.\n",
              "\n",
              "See Also\n",
              "--------\n",
              "DataFrame.tail: Returns the last `n` rows.\n",
              "\n",
              "Examples\n",
              "--------\n",
              "&gt;&gt;&gt; df = pd.DataFrame({&#x27;animal&#x27;: [&#x27;alligator&#x27;, &#x27;bee&#x27;, &#x27;falcon&#x27;, &#x27;lion&#x27;,\n",
              "...                    &#x27;monkey&#x27;, &#x27;parrot&#x27;, &#x27;shark&#x27;, &#x27;whale&#x27;, &#x27;zebra&#x27;]})\n",
              "&gt;&gt;&gt; df\n",
              "      animal\n",
              "0  alligator\n",
              "1        bee\n",
              "2     falcon\n",
              "3       lion\n",
              "4     monkey\n",
              "5     parrot\n",
              "6      shark\n",
              "7      whale\n",
              "8      zebra\n",
              "\n",
              "Viewing the first 5 lines\n",
              "\n",
              "&gt;&gt;&gt; df.head()\n",
              "      animal\n",
              "0  alligator\n",
              "1        bee\n",
              "2     falcon\n",
              "3       lion\n",
              "4     monkey\n",
              "\n",
              "Viewing the first `n` lines (three in this case)\n",
              "\n",
              "&gt;&gt;&gt; df.head(3)\n",
              "      animal\n",
              "0  alligator\n",
              "1        bee\n",
              "2     falcon\n",
              "\n",
              "For negative values of `n`\n",
              "\n",
              "&gt;&gt;&gt; df.head(-3)\n",
              "      animal\n",
              "0  alligator\n",
              "1        bee\n",
              "2     falcon\n",
              "3       lion\n",
              "4     monkey\n",
              "5     parrot</pre>\n",
              "      <script>\n",
              "      if (google.colab.kernel.accessAllowed && google.colab.files && google.colab.files.view) {\n",
              "        for (const element of document.querySelectorAll('.filepath')) {\n",
              "          element.style.display = 'block'\n",
              "          element.onclick = (event) => {\n",
              "            event.preventDefault();\n",
              "            event.stopPropagation();\n",
              "            google.colab.files.view(element.textContent, 5818);\n",
              "          };\n",
              "        }\n",
              "      }\n",
              "      for (const element of document.querySelectorAll('.function-repr-contents')) {\n",
              "        element.onclick = (event) => {\n",
              "          event.preventDefault();\n",
              "          event.stopPropagation();\n",
              "          element.classList.toggle('function-repr-contents-collapsed');\n",
              "        };\n",
              "      }\n",
              "      </script>\n",
              "      </div>"
            ]
          },
          "metadata": {},
          "execution_count": 6
        }
      ]
    },
    {
      "cell_type": "markdown",
      "source": [
        "There is a wide range in terms of how many border crossing in the top 10 going from around 700 million to 3.6 billion crossings. These high numbers are likely because there are millions of undocumented immigrants, legal immigrants etc. and also that there are goods imported into the US because of the NAFTA trade agreements when goods are imported it counts as a border crossing. It also includes people coming temporarily like toursists or business travelers or family coming to visit several times in a year that counts as several times crossing the border"
      ],
      "metadata": {
        "id": "Wly2Jnk0EUf-"
      }
    },
    {
      "cell_type": "code",
      "source": [
        "States = Border_crossing['State']\n",
        "States"
      ],
      "metadata": {
        "id": "xP4a2E-LRnpj",
        "colab": {
          "base_uri": "https://localhost:8080/",
          "height": 458
        },
        "outputId": "a51b966d-08d4-4ba8-86b5-616192bb8279"
      },
      "execution_count": 7,
      "outputs": [
        {
          "output_type": "execute_result",
          "data": {
            "text/plain": [
              "0           California\n",
              "1                Maine\n",
              "2           California\n",
              "3              Arizona\n",
              "4             New York\n",
              "              ...     \n",
              "346728         Vermont\n",
              "346729      New Mexico\n",
              "346730    North Dakota\n",
              "346731      California\n",
              "346732           Texas\n",
              "Name: State, Length: 346733, dtype: object"
            ],
            "text/html": [
              "<div>\n",
              "<style scoped>\n",
              "    .dataframe tbody tr th:only-of-type {\n",
              "        vertical-align: middle;\n",
              "    }\n",
              "\n",
              "    .dataframe tbody tr th {\n",
              "        vertical-align: top;\n",
              "    }\n",
              "\n",
              "    .dataframe thead th {\n",
              "        text-align: right;\n",
              "    }\n",
              "</style>\n",
              "<table border=\"1\" class=\"dataframe\">\n",
              "  <thead>\n",
              "    <tr style=\"text-align: right;\">\n",
              "      <th></th>\n",
              "      <th>State</th>\n",
              "    </tr>\n",
              "  </thead>\n",
              "  <tbody>\n",
              "    <tr>\n",
              "      <th>0</th>\n",
              "      <td>California</td>\n",
              "    </tr>\n",
              "    <tr>\n",
              "      <th>1</th>\n",
              "      <td>Maine</td>\n",
              "    </tr>\n",
              "    <tr>\n",
              "      <th>2</th>\n",
              "      <td>California</td>\n",
              "    </tr>\n",
              "    <tr>\n",
              "      <th>3</th>\n",
              "      <td>Arizona</td>\n",
              "    </tr>\n",
              "    <tr>\n",
              "      <th>4</th>\n",
              "      <td>New York</td>\n",
              "    </tr>\n",
              "    <tr>\n",
              "      <th>...</th>\n",
              "      <td>...</td>\n",
              "    </tr>\n",
              "    <tr>\n",
              "      <th>346728</th>\n",
              "      <td>Vermont</td>\n",
              "    </tr>\n",
              "    <tr>\n",
              "      <th>346729</th>\n",
              "      <td>New Mexico</td>\n",
              "    </tr>\n",
              "    <tr>\n",
              "      <th>346730</th>\n",
              "      <td>North Dakota</td>\n",
              "    </tr>\n",
              "    <tr>\n",
              "      <th>346731</th>\n",
              "      <td>California</td>\n",
              "    </tr>\n",
              "    <tr>\n",
              "      <th>346732</th>\n",
              "      <td>Texas</td>\n",
              "    </tr>\n",
              "  </tbody>\n",
              "</table>\n",
              "<p>346733 rows × 1 columns</p>\n",
              "</div><br><label><b>dtype:</b> object</label>"
            ]
          },
          "metadata": {},
          "execution_count": 7
        }
      ]
    },
    {
      "cell_type": "code",
      "source": [
        "Top_states"
      ],
      "metadata": {
        "id": "J5cVQOvpTMG6",
        "outputId": "b274ee79-577a-4862-c97c-fd0a9e252d18",
        "colab": {
          "base_uri": "https://localhost:8080/",
          "height": 141
        }
      },
      "execution_count": 8,
      "outputs": [
        {
          "output_type": "error",
          "ename": "NameError",
          "evalue": "name 'Top_states' is not defined",
          "traceback": [
            "\u001b[0;31m---------------------------------------------------------------------------\u001b[0m",
            "\u001b[0;31mNameError\u001b[0m                                 Traceback (most recent call last)",
            "\u001b[0;32m<ipython-input-8-f1ec7d361901>\u001b[0m in \u001b[0;36m<cell line: 1>\u001b[0;34m()\u001b[0m\n\u001b[0;32m----> 1\u001b[0;31m \u001b[0mTop_states\u001b[0m\u001b[0;34m\u001b[0m\u001b[0;34m\u001b[0m\u001b[0m\n\u001b[0m",
            "\u001b[0;31mNameError\u001b[0m: name 'Top_states' is not defined"
          ]
        }
      ]
    },
    {
      "cell_type": "code",
      "source": [
        "total_crossings_by_state = Border_crossing.groupby('State')['Value'].sum().reset_index()\n",
        "\n",
        "Top_states = total_crossings_by_state.sort_values(by='Value', ascending=False).head(10)\n",
        "\n",
        "plt.figure(figsize=(10, 6))\n",
        "sns.barplot(x='State', y='Value', data=Top_states)\n",
        "plt.title('Total Border Crossings of Top 10 States')\n",
        "plt.xlabel('State')\n",
        "plt.ylabel('Total Crossings')\n",
        "\n",
        "def format_func(x, _):\n",
        "    return f'{int(x):,}'\n",
        "\n",
        "plt.gca().yaxis.set_major_formatter(FuncFormatter(format_func))\n",
        "plt.grid(axis='y')\n",
        "plt.xticks(rotation=45)\n",
        "plt.show()\n"
      ],
      "metadata": {
        "id": "nq2z45MGhE0n"
      },
      "execution_count": null,
      "outputs": []
    },
    {
      "cell_type": "markdown",
      "source": [
        "A bar chart was used as its a great way to see a distribution of all border crossings from the highest to lowest among the top 10 states. This is an easy way to visually see the most prominent states when it comes to how many border crossings there are."
      ],
      "metadata": {
        "id": "l1baZsWGUKD4"
      }
    },
    {
      "cell_type": "code",
      "source": [
        "plt.figure(figsize=(10, 15))\n",
        "plt.pie(Top_states['Value'], labels=Top_states['State'], autopct='%1.1f%%', startangle=140)\n",
        "plt.title('Total Border Crossings by State (Top 10 States)')\n",
        "plt.axis('equal')  # Equal aspect ratio ensures that pie is drawn as a circle.\n",
        "plt.show()"
      ],
      "metadata": {
        "id": "3nzopcdtiRdx"
      },
      "execution_count": null,
      "outputs": []
    },
    {
      "cell_type": "markdown",
      "source": [
        "Because the top 10 states make up over 98.4% of all border crossings a pie chart allows to show the proportion by percentage of each state compared to one another in an easy to understand manner"
      ],
      "metadata": {
        "id": "ywYkjx4CU8fy"
      }
    },
    {
      "cell_type": "code",
      "source": [
        "top_states_total = Top_states['Value'].sum()\n",
        "\n",
        "# Step 2: Calculate total crossings for all states\n",
        "overall_total_crossings = Border_crossing['Value'].sum()\n",
        "\n",
        "# Step 3: Calculate the percentage of crossings for the top 10 states\n",
        "top_states_percentage = (top_states_total / overall_total_crossings) * 100\n",
        "\n",
        "print(f\"Percentage of total border crossings by the top 10 states: {top_states_percentage:.2f}%\")\n"
      ],
      "metadata": {
        "id": "_mVVO7wJkZHb"
      },
      "execution_count": null,
      "outputs": []
    },
    {
      "cell_type": "code",
      "source": [
        "plt.figure(figsize=(10, 6))\n",
        "\n",
        "# Plotting with states on x-axis and values on y-axis\n",
        "sns.lineplot(x='State', y='Value', data=Top_states, marker='o')\n",
        "\n",
        "plt.title('Total Border Crossings for Top 10 States')\n",
        "plt.xlabel('State')\n",
        "plt.ylabel('Total Crossings')\n",
        "\n",
        "# Formatting the y-axis to display whole numbers\n",
        "def format_func(x, _):\n",
        "    return f'{int(x):,}'\n",
        "\n",
        "plt.gca().yaxis.set_major_formatter(FuncFormatter(format_func))\n",
        "plt.grid()\n",
        "plt.xticks(rotation=45)\n",
        "plt.show()"
      ],
      "metadata": {
        "id": "n3sMAQP60YPw"
      },
      "execution_count": null,
      "outputs": []
    },
    {
      "cell_type": "markdown",
      "source": [
        "I did a lineplot to show the drastic difference between Texas and California to all of the other states to highlight how many more border crossings occur in these two states compared to the other 8 states"
      ],
      "metadata": {
        "id": "EctzTPPDVPBa"
      }
    }
  ]
}