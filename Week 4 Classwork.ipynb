{
  "nbformat": 4,
  "nbformat_minor": 0,
  "metadata": {
    "colab": {
      "private_outputs": true,
      "provenance": [],
      "include_colab_link": true
    },
    "kernelspec": {
      "name": "python3",
      "display_name": "Python 3"
    },
    "language_info": {
      "name": "python"
    }
  },
  "cells": [
    {
      "cell_type": "markdown",
      "metadata": {
        "id": "view-in-github",
        "colab_type": "text"
      },
      "source": [
        "<a href=\"https://colab.research.google.com/github/alexkardan/Data110/blob/main/Week%204%20Classwork.ipynb\" target=\"_parent\"><img src=\"https://colab.research.google.com/assets/colab-badge.svg\" alt=\"Open In Colab\"/></a>"
      ]
    },
    {
      "cell_type": "code",
      "execution_count": null,
      "metadata": {
        "id": "u4L0cqABaFom"
      },
      "outputs": [],
      "source": [
        "from matplotlib import pyplot as plt\n",
        "import numpy as np\n",
        "import pandas as pd\n",
        "plt.style.use(\"ggplot\")  # Sets the style for the plots"
      ]
    },
    {
      "cell_type": "code",
      "source": [
        "x = [1, 2, 3, 4]\n",
        "y = [10, 8, 12, 16]\n",
        "plt.bar(x, y)\n",
        "plt.show()"
      ],
      "metadata": {
        "id": "fnLxehy0al-U"
      },
      "execution_count": null,
      "outputs": []
    },
    {
      "cell_type": "code",
      "source": [
        "plt.style.use(\"classic\")\n",
        "x = [1, 2, 3, 4]\n",
        "y = [10, 8, 12, 16]\n",
        "plt.bar(x, y)\n",
        "plt.show()"
      ],
      "metadata": {
        "id": "uP9wR4kta93Q"
      },
      "execution_count": null,
      "outputs": []
    },
    {
      "cell_type": "code",
      "source": [
        "#plt.style.use(\"classic\")\n",
        "x = [1, 2, 3, 4,5]\n",
        "y = [10, 8, 12, 16,5]\n",
        "plt.bar(x, y)\n",
        "plt.show()"
      ],
      "metadata": {
        "id": "qfabP8hJbKUF"
      },
      "execution_count": null,
      "outputs": []
    },
    {
      "cell_type": "code",
      "source": [
        "\n",
        "print(type(len(x) == len(y)))"
      ],
      "metadata": {
        "id": "IffhBBCJbdit"
      },
      "execution_count": null,
      "outputs": []
    },
    {
      "cell_type": "code",
      "source": [
        "x = [1, 2, 3, 4]\n",
        "y = [10, 8, 12, 16]\n",
        "plt.bar(x, y,label='Steps')\n",
        "plt.legend()\n",
        "plt.xlabel(\"Days\")\n",
        "plt.ylabel(\"Steps\")\n",
        "plt.title(\"Steps vs Days\")\n",
        "plt.show()"
      ],
      "metadata": {
        "id": "ofli8TIVb8xy"
      },
      "execution_count": null,
      "outputs": []
    },
    {
      "cell_type": "code",
      "source": [
        "x = ['p1', 'p2', 'p3', 'p4']\n",
        "y = [10, 8, 12, 16]\n",
        "z = [12, 7, 8, 23]\n",
        "w =[5,3,5,9]\n",
        "plt.bar(x,z,color='skyblue')\n",
        "plt.bar(x,y,color='red',bottom=z)\n",
        "#plt.bar(x,w,color='green',bottom=w)??\n",
        "\n",
        "plt.show()"
      ],
      "metadata": {
        "id": "t-jUNGYrcYG_"
      },
      "execution_count": null,
      "outputs": []
    },
    {
      "cell_type": "code",
      "source": [
        "x = ['M', 'T', 'W', 'Th'] # categroies\n",
        "x_indexes = np.arange(len(x))\n",
        "print(x_indexes)\n",
        "y = [10, 8, 12, 16]\n",
        "z = [12, 7, 8, 23]\n",
        "plt.bar(x_indexes+0.125,z,color='skyblue',width=0.25)\n",
        "plt.bar(x_indexes-0.125,y,color='red',width=0.25)\n",
        "\n",
        "#plt.xticks(ticks=x_indexes, labels=x)\n",
        "plt.show()\n"
      ],
      "metadata": {
        "id": "Am69oVLlhIQF"
      },
      "execution_count": null,
      "outputs": []
    },
    {
      "cell_type": "code",
      "source": [
        "x = ['M', 'T', 'W', 'Th'] # categroies\n",
        "x_indexes = np.arange(len(x))\n",
        "print(x_indexes)\n",
        "y = [10, 8, 12, 16]\n",
        "z = [12, 7, 8, 23]\n",
        "plt.bar(x_indexes+0.125,z,color='skyblue',width=0.25,label=\"Person 1\")\n",
        "plt.bar(x_indexes-0.125,y,color='red',width=0.25,label=\"Person 2\")\n",
        "plt.legend()\n",
        "\n",
        "plt.xticks(ticks=x_indexes, labels=x)\n",
        "plt.show()\n",
        "\n",
        "\n"
      ],
      "metadata": {
        "id": "Lad4XsjweoqD"
      },
      "execution_count": null,
      "outputs": []
    },
    {
      "cell_type": "code",
      "source": [
        "np.arange(3)"
      ],
      "metadata": {
        "id": "IbhbSHpMe9Kf"
      },
      "execution_count": null,
      "outputs": []
    },
    {
      "cell_type": "markdown",
      "source": [],
      "metadata": {
        "id": "lZNoS1oze9A9"
      }
    },
    {
      "cell_type": "code",
      "source": [
        "# Load the dataset\n",
        "df = pd.read_csv('https://raw.githubusercontent.com/Reben80/Data110-22016/refs/heads/main/dataset/happiness_2017.csv')\n",
        "df.head()  # Shows the first few rows\n",
        "df.info()  # Provides information about the dataframe"
      ],
      "metadata": {
        "id": "aWITc_wCiOaq"
      },
      "execution_count": null,
      "outputs": []
    },
    {
      "cell_type": "code",
      "source": [
        "plt.bar(df['Country'],df['HappinessScore'])\n",
        "plt.show()"
      ],
      "metadata": {
        "id": "1qKlRquRidAS"
      },
      "execution_count": null,
      "outputs": []
    },
    {
      "cell_type": "code",
      "source": [
        "plt.figure(figsize=(30,15))\n",
        "plt.bar(df['Country'],df['HappinessScore'])\n",
        "plt.show()"
      ],
      "metadata": {
        "id": "dfu4detTivLt"
      },
      "execution_count": null,
      "outputs": []
    },
    {
      "cell_type": "code",
      "source": [
        "plt.figure(figsize=(30,30))\n",
        "plt.barh(df['Country'],df['HappinessScore'])\n",
        "plt.show()"
      ],
      "metadata": {
        "id": "A3tvWF19jAkE"
      },
      "execution_count": null,
      "outputs": []
    },
    {
      "cell_type": "code",
      "source": [
        "plt.figure(figsize=(20,20))\n",
        "ds=df.sort_values(by='HappinessScore',ascending=True)\n",
        "plt.barh(ds['Country'],ds['HappinessScore'])\n",
        "plt.show()"
      ],
      "metadata": {
        "id": "OnMNAsdVjQqt"
      },
      "execution_count": null,
      "outputs": []
    },
    {
      "cell_type": "code",
      "source": [
        "# We have sorted by happiness course ds\n",
        "ds_top_10=ds.tail(10)\n",
        "ds_top_10.tail()\n",
        "plt.barh(ds_top_10['Country'],ds_top_10['HappinessScore'])\n",
        "plt.show()"
      ],
      "metadata": {
        "id": "69yWMYhjkdnn"
      },
      "execution_count": null,
      "outputs": []
    },
    {
      "cell_type": "code",
      "source": [],
      "metadata": {
        "id": "S1lXQeqooZhj"
      },
      "execution_count": null,
      "outputs": []
    },
    {
      "cell_type": "code",
      "source": [
        "# Data from the table\n",
        "titles = ['Star Wars', 'Jumanji', 'Pitch Perfect 3', 'Greatest Showman', 'Ferdinand']\n",
        "amounts = [71.57, 36.17, 19.93, 8.81, 7.32]\n",
        "plt.bar(titles, amounts)\n",
        "plt.show()\n"
      ],
      "metadata": {
        "id": "B8Laak3npS91"
      },
      "execution_count": null,
      "outputs": []
    }
  ]
}