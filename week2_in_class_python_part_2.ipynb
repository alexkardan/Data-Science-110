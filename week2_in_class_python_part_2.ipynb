{
  "nbformat": 4,
  "nbformat_minor": 0,
  "metadata": {
    "colab": {
      "private_outputs": true,
      "provenance": [],
      "name": "week2_in_class_python_part_2.ipynb",
      "include_colab_link": true
    },
    "kernelspec": {
      "name": "python3",
      "display_name": "Python 3"
    },
    "language_info": {
      "name": "python"
    }
  },
  "cells": [
    {
      "cell_type": "markdown",
      "metadata": {
        "id": "view-in-github",
        "colab_type": "text"
      },
      "source": [
        "<a href=\"https://colab.research.google.com/github/alexkardan/Data110/blob/main/week2_in_class_python_part_2.ipynb\" target=\"_parent\"><img src=\"https://colab.research.google.com/assets/colab-badge.svg\" alt=\"Open In Colab\"/></a>"
      ]
    },
    {
      "cell_type": "code",
      "execution_count": null,
      "metadata": {
        "id": "AI6fysQ0hD0u"
      },
      "outputs": [],
      "source": [
        "import matplotlib.pyplot as plt\n",
        "import numpy as np\n",
        "import pandas as pd\n"
      ]
    },
    {
      "cell_type": "code",
      "source": [
        "#load the dataset\n",
        "\n",
        "#df=pd.read_csv('/content/happiness_2017.csv')\n",
        "df=pd.read_csv('https://raw.githubusercontent.com/Reben80/Data110-22016/main/dataset/happiness_2017.csv')"
      ],
      "metadata": {
        "id": "H9jKSdHbifbm"
      },
      "execution_count": null,
      "outputs": []
    },
    {
      "cell_type": "code",
      "source": [
        "print(df.head())"
      ],
      "metadata": {
        "id": "dyxCpgVTi-Os"
      },
      "execution_count": null,
      "outputs": []
    },
    {
      "cell_type": "code",
      "source": [
        "print(df.describe())"
      ],
      "metadata": {
        "id": "uSrPd1TMj65f"
      },
      "execution_count": null,
      "outputs": []
    },
    {
      "cell_type": "code",
      "source": [
        "print(df.shape)"
      ],
      "metadata": {
        "id": "UdAekkkgklEw"
      },
      "execution_count": null,
      "outputs": []
    },
    {
      "cell_type": "code",
      "source": [
        "print(df.columns)"
      ],
      "metadata": {
        "id": "w6BBXcEkkxn3"
      },
      "execution_count": null,
      "outputs": []
    },
    {
      "cell_type": "code",
      "source": [
        "plt.scatter(df['HappinessScore'], df['Social support'])\n",
        "plt.xlabel('Happiness Score')\n",
        "plt.ylabel('Social Support')\n",
        "plt.title('Happiness Score vs social Support')\n",
        "plt.show()"
      ],
      "metadata": {
        "id": "pffMnhYvlOJ1"
      },
      "execution_count": null,
      "outputs": []
    },
    {
      "cell_type": "code",
      "source": [
        "plt.scatter(df['HappinessScore'], df['Log GDP per capita'])"
      ],
      "metadata": {
        "id": "45F6M6VImasC"
      },
      "execution_count": null,
      "outputs": []
    },
    {
      "cell_type": "code",
      "source": [
        "plt.scatter(df['Freedom to make life choices'],df['Confidence in national government'])"
      ],
      "metadata": {
        "id": "eoqOwZwtmsR4"
      },
      "execution_count": null,
      "outputs": []
    },
    {
      "cell_type": "code",
      "source": [
        "plt.scatter(df['Negative affect'], df['Generosity'], color = 'red')\n",
        "plt.xlabel('Negative Affect')\n",
        "plt.ylabel('Generosity')\n",
        "plt.title('Negative Affect vs Generosity')\n",
        "plt.show()"
      ],
      "metadata": {
        "id": "blXd6QB2m-vB"
      },
      "execution_count": null,
      "outputs": []
    }
  ]
}